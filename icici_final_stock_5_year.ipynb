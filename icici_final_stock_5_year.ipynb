{
 "cells": [
  {
   "cell_type": "markdown",
   "metadata": {},
   "source": [
    "# STOCK PRICE PREDICTION OF ICICI COMPANY(5 yr data)"
   ]
  },
  {
   "cell_type": "code",
   "execution_count": 1,
   "metadata": {},
   "outputs": [],
   "source": [
    "#IMPORTING ALL REQUIRED PACKAGES\n",
    "%matplotlib inline\n",
    "import numpy as np\n",
    "import pandas as pd\n",
    "from matplotlib import pyplot as plt\n",
    "from matplotlib.pylab import rcParams\n",
    "import seaborn as sns\n",
    "import statsmodels.api as sm\n",
    "import warnings\n",
    "warnings.filterwarnings('ignore')\n",
    "plt.style.use('fivethirtyeight')\n",
    "from pylab import rcParams\n",
    "rcParams['figure.figsize'] = 10, 6\n",
    "from statsmodels.tsa.stattools import adfuller\n",
    "from statsmodels.tsa.seasonal import seasonal_decompose\n",
    "from statsmodels.tsa.arima_model import ARIMA\n",
    "\n",
    "from pmdarima.arima import auto_arima\n",
    "from sklearn.metrics import mean_squared_error, mean_absolute_error\n",
    "import math\n",
    "import matplotlib.ticker as ticker"
   ]
  },
  {
   "cell_type": "code",
   "execution_count": 2,
   "metadata": {},
   "outputs": [
    {
     "data": {
      "text/html": [
       "<div>\n",
       "<style scoped>\n",
       "    .dataframe tbody tr th:only-of-type {\n",
       "        vertical-align: middle;\n",
       "    }\n",
       "\n",
       "    .dataframe tbody tr th {\n",
       "        vertical-align: top;\n",
       "    }\n",
       "\n",
       "    .dataframe thead th {\n",
       "        text-align: right;\n",
       "    }\n",
       "</style>\n",
       "<table border=\"1\" class=\"dataframe\">\n",
       "  <thead>\n",
       "    <tr style=\"text-align: right;\">\n",
       "      <th></th>\n",
       "      <th>Date</th>\n",
       "      <th>Open</th>\n",
       "      <th>High</th>\n",
       "      <th>Low</th>\n",
       "      <th>Close</th>\n",
       "      <th>Adj Close</th>\n",
       "      <th>Volume</th>\n",
       "    </tr>\n",
       "  </thead>\n",
       "  <tbody>\n",
       "    <tr>\n",
       "      <th>0</th>\n",
       "      <td>2016-03-28</td>\n",
       "      <td>212.727264</td>\n",
       "      <td>212.727264</td>\n",
       "      <td>203.545456</td>\n",
       "      <td>204.954544</td>\n",
       "      <td>195.222260</td>\n",
       "      <td>20214214.0</td>\n",
       "    </tr>\n",
       "    <tr>\n",
       "      <th>1</th>\n",
       "      <td>2016-03-29</td>\n",
       "      <td>203.000000</td>\n",
       "      <td>206.318176</td>\n",
       "      <td>202.181824</td>\n",
       "      <td>203.090912</td>\n",
       "      <td>193.447144</td>\n",
       "      <td>20447782.0</td>\n",
       "    </tr>\n",
       "    <tr>\n",
       "      <th>2</th>\n",
       "      <td>2016-03-30</td>\n",
       "      <td>207.727264</td>\n",
       "      <td>217.272720</td>\n",
       "      <td>206.181824</td>\n",
       "      <td>215.909088</td>\n",
       "      <td>205.656662</td>\n",
       "      <td>23016348.0</td>\n",
       "    </tr>\n",
       "    <tr>\n",
       "      <th>3</th>\n",
       "      <td>2016-03-31</td>\n",
       "      <td>216.545456</td>\n",
       "      <td>219.409088</td>\n",
       "      <td>212.454544</td>\n",
       "      <td>215.136368</td>\n",
       "      <td>204.920624</td>\n",
       "      <td>30614104.0</td>\n",
       "    </tr>\n",
       "    <tr>\n",
       "      <th>4</th>\n",
       "      <td>2016-04-01</td>\n",
       "      <td>214.545456</td>\n",
       "      <td>217.681824</td>\n",
       "      <td>211.545456</td>\n",
       "      <td>216.636368</td>\n",
       "      <td>206.349396</td>\n",
       "      <td>15677352.0</td>\n",
       "    </tr>\n",
       "    <tr>\n",
       "      <th>...</th>\n",
       "      <td>...</td>\n",
       "      <td>...</td>\n",
       "      <td>...</td>\n",
       "      <td>...</td>\n",
       "      <td>...</td>\n",
       "      <td>...</td>\n",
       "      <td>...</td>\n",
       "    </tr>\n",
       "    <tr>\n",
       "      <th>1231</th>\n",
       "      <td>2021-03-22</td>\n",
       "      <td>586.849976</td>\n",
       "      <td>586.849976</td>\n",
       "      <td>569.500000</td>\n",
       "      <td>573.450012</td>\n",
       "      <td>573.450012</td>\n",
       "      <td>21755401.0</td>\n",
       "    </tr>\n",
       "    <tr>\n",
       "      <th>1232</th>\n",
       "      <td>2021-03-23</td>\n",
       "      <td>576.000000</td>\n",
       "      <td>589.250000</td>\n",
       "      <td>574.299988</td>\n",
       "      <td>586.400024</td>\n",
       "      <td>586.400024</td>\n",
       "      <td>29486417.0</td>\n",
       "    </tr>\n",
       "    <tr>\n",
       "      <th>1233</th>\n",
       "      <td>2021-03-24</td>\n",
       "      <td>580.000000</td>\n",
       "      <td>580.549988</td>\n",
       "      <td>565.000000</td>\n",
       "      <td>567.500000</td>\n",
       "      <td>567.500000</td>\n",
       "      <td>24434219.0</td>\n",
       "    </tr>\n",
       "    <tr>\n",
       "      <th>1234</th>\n",
       "      <td>2021-03-25</td>\n",
       "      <td>568.099976</td>\n",
       "      <td>579.000000</td>\n",
       "      <td>557.099976</td>\n",
       "      <td>571.549988</td>\n",
       "      <td>571.549988</td>\n",
       "      <td>27170186.0</td>\n",
       "    </tr>\n",
       "    <tr>\n",
       "      <th>1235</th>\n",
       "      <td>2021-03-26</td>\n",
       "      <td>584.500000</td>\n",
       "      <td>584.500000</td>\n",
       "      <td>574.299988</td>\n",
       "      <td>578.549988</td>\n",
       "      <td>578.549988</td>\n",
       "      <td>20724410.0</td>\n",
       "    </tr>\n",
       "  </tbody>\n",
       "</table>\n",
       "<p>1236 rows × 7 columns</p>\n",
       "</div>"
      ],
      "text/plain": [
       "            Date        Open        High         Low       Close   Adj Close  \\\n",
       "0     2016-03-28  212.727264  212.727264  203.545456  204.954544  195.222260   \n",
       "1     2016-03-29  203.000000  206.318176  202.181824  203.090912  193.447144   \n",
       "2     2016-03-30  207.727264  217.272720  206.181824  215.909088  205.656662   \n",
       "3     2016-03-31  216.545456  219.409088  212.454544  215.136368  204.920624   \n",
       "4     2016-04-01  214.545456  217.681824  211.545456  216.636368  206.349396   \n",
       "...          ...         ...         ...         ...         ...         ...   \n",
       "1231  2021-03-22  586.849976  586.849976  569.500000  573.450012  573.450012   \n",
       "1232  2021-03-23  576.000000  589.250000  574.299988  586.400024  586.400024   \n",
       "1233  2021-03-24  580.000000  580.549988  565.000000  567.500000  567.500000   \n",
       "1234  2021-03-25  568.099976  579.000000  557.099976  571.549988  571.549988   \n",
       "1235  2021-03-26  584.500000  584.500000  574.299988  578.549988  578.549988   \n",
       "\n",
       "          Volume  \n",
       "0     20214214.0  \n",
       "1     20447782.0  \n",
       "2     23016348.0  \n",
       "3     30614104.0  \n",
       "4     15677352.0  \n",
       "...          ...  \n",
       "1231  21755401.0  \n",
       "1232  29486417.0  \n",
       "1233  24434219.0  \n",
       "1234  27170186.0  \n",
       "1235  20724410.0  \n",
       "\n",
       "[1236 rows x 7 columns]"
      ]
     },
     "execution_count": 2,
     "metadata": {},
     "output_type": "execute_result"
    }
   ],
   "source": [
    "data=pd.read_csv('ic_5.csv')\n",
    "data"
   ]
  },
  {
   "cell_type": "markdown",
   "metadata": {},
   "source": [
    "# EXPLORATORY DATA ANALYSIS(EDA)"
   ]
  },
  {
   "cell_type": "code",
   "execution_count": 3,
   "metadata": {
    "scrolled": true
   },
   "outputs": [
    {
     "data": {
      "text/plain": [
       "(1236, 7)"
      ]
     },
     "execution_count": 3,
     "metadata": {},
     "output_type": "execute_result"
    }
   ],
   "source": [
    "#CHECKING SHAPE OF DATASET\n",
    "data.shape"
   ]
  },
  {
   "cell_type": "code",
   "execution_count": 4,
   "metadata": {},
   "outputs": [
    {
     "data": {
      "text/plain": [
       "Date          2017-01-12\n",
       "Open             242.364\n",
       "High                 245\n",
       "Low              241.318\n",
       "Close            243.955\n",
       "Adj Close        237.153\n",
       "Volume       1.17113e+07\n",
       "Name: 197, dtype: object"
      ]
     },
     "execution_count": 4,
     "metadata": {},
     "output_type": "execute_result"
    }
   ],
   "source": [
    "data.iloc[197]"
   ]
  },
  {
   "cell_type": "code",
   "execution_count": 5,
   "metadata": {
    "scrolled": true
   },
   "outputs": [
    {
     "data": {
      "text/plain": [
       "Date         0\n",
       "Open         2\n",
       "High         2\n",
       "Low          2\n",
       "Close        2\n",
       "Adj Close    2\n",
       "Volume       2\n",
       "dtype: int64"
      ]
     },
     "execution_count": 5,
     "metadata": {},
     "output_type": "execute_result"
    }
   ],
   "source": [
    "#CHECKING NULL VALUES IN DATASET\n",
    "data.isnull().sum()"
   ]
  },
  {
   "cell_type": "code",
   "execution_count": 6,
   "metadata": {
    "scrolled": true
   },
   "outputs": [
    {
     "data": {
      "text/html": [
       "<div>\n",
       "<style scoped>\n",
       "    .dataframe tbody tr th:only-of-type {\n",
       "        vertical-align: middle;\n",
       "    }\n",
       "\n",
       "    .dataframe tbody tr th {\n",
       "        vertical-align: top;\n",
       "    }\n",
       "\n",
       "    .dataframe thead th {\n",
       "        text-align: right;\n",
       "    }\n",
       "</style>\n",
       "<table border=\"1\" class=\"dataframe\">\n",
       "  <thead>\n",
       "    <tr style=\"text-align: right;\">\n",
       "      <th></th>\n",
       "      <th>Date</th>\n",
       "      <th>Open</th>\n",
       "      <th>High</th>\n",
       "      <th>Low</th>\n",
       "      <th>Close</th>\n",
       "      <th>Adj Close</th>\n",
       "      <th>Volume</th>\n",
       "    </tr>\n",
       "  </thead>\n",
       "  <tbody>\n",
       "    <tr>\n",
       "      <th>0</th>\n",
       "      <td>2016-03-28</td>\n",
       "      <td>212.727264</td>\n",
       "      <td>212.727264</td>\n",
       "      <td>203.545456</td>\n",
       "      <td>204.954544</td>\n",
       "      <td>195.222260</td>\n",
       "      <td>20214214.0</td>\n",
       "    </tr>\n",
       "    <tr>\n",
       "      <th>1</th>\n",
       "      <td>2016-03-29</td>\n",
       "      <td>203.000000</td>\n",
       "      <td>206.318176</td>\n",
       "      <td>202.181824</td>\n",
       "      <td>203.090912</td>\n",
       "      <td>193.447144</td>\n",
       "      <td>20447782.0</td>\n",
       "    </tr>\n",
       "    <tr>\n",
       "      <th>2</th>\n",
       "      <td>2016-03-30</td>\n",
       "      <td>207.727264</td>\n",
       "      <td>217.272720</td>\n",
       "      <td>206.181824</td>\n",
       "      <td>215.909088</td>\n",
       "      <td>205.656662</td>\n",
       "      <td>23016348.0</td>\n",
       "    </tr>\n",
       "    <tr>\n",
       "      <th>3</th>\n",
       "      <td>2016-03-31</td>\n",
       "      <td>216.545456</td>\n",
       "      <td>219.409088</td>\n",
       "      <td>212.454544</td>\n",
       "      <td>215.136368</td>\n",
       "      <td>204.920624</td>\n",
       "      <td>30614104.0</td>\n",
       "    </tr>\n",
       "    <tr>\n",
       "      <th>4</th>\n",
       "      <td>2016-04-01</td>\n",
       "      <td>214.545456</td>\n",
       "      <td>217.681824</td>\n",
       "      <td>211.545456</td>\n",
       "      <td>216.636368</td>\n",
       "      <td>206.349396</td>\n",
       "      <td>15677352.0</td>\n",
       "    </tr>\n",
       "    <tr>\n",
       "      <th>...</th>\n",
       "      <td>...</td>\n",
       "      <td>...</td>\n",
       "      <td>...</td>\n",
       "      <td>...</td>\n",
       "      <td>...</td>\n",
       "      <td>...</td>\n",
       "      <td>...</td>\n",
       "    </tr>\n",
       "    <tr>\n",
       "      <th>1231</th>\n",
       "      <td>2021-03-22</td>\n",
       "      <td>586.849976</td>\n",
       "      <td>586.849976</td>\n",
       "      <td>569.500000</td>\n",
       "      <td>573.450012</td>\n",
       "      <td>573.450012</td>\n",
       "      <td>21755401.0</td>\n",
       "    </tr>\n",
       "    <tr>\n",
       "      <th>1232</th>\n",
       "      <td>2021-03-23</td>\n",
       "      <td>576.000000</td>\n",
       "      <td>589.250000</td>\n",
       "      <td>574.299988</td>\n",
       "      <td>586.400024</td>\n",
       "      <td>586.400024</td>\n",
       "      <td>29486417.0</td>\n",
       "    </tr>\n",
       "    <tr>\n",
       "      <th>1233</th>\n",
       "      <td>2021-03-24</td>\n",
       "      <td>580.000000</td>\n",
       "      <td>580.549988</td>\n",
       "      <td>565.000000</td>\n",
       "      <td>567.500000</td>\n",
       "      <td>567.500000</td>\n",
       "      <td>24434219.0</td>\n",
       "    </tr>\n",
       "    <tr>\n",
       "      <th>1234</th>\n",
       "      <td>2021-03-25</td>\n",
       "      <td>568.099976</td>\n",
       "      <td>579.000000</td>\n",
       "      <td>557.099976</td>\n",
       "      <td>571.549988</td>\n",
       "      <td>571.549988</td>\n",
       "      <td>27170186.0</td>\n",
       "    </tr>\n",
       "    <tr>\n",
       "      <th>1235</th>\n",
       "      <td>2021-03-26</td>\n",
       "      <td>584.500000</td>\n",
       "      <td>584.500000</td>\n",
       "      <td>574.299988</td>\n",
       "      <td>578.549988</td>\n",
       "      <td>578.549988</td>\n",
       "      <td>20724410.0</td>\n",
       "    </tr>\n",
       "  </tbody>\n",
       "</table>\n",
       "<p>1234 rows × 7 columns</p>\n",
       "</div>"
      ],
      "text/plain": [
       "            Date        Open        High         Low       Close   Adj Close  \\\n",
       "0     2016-03-28  212.727264  212.727264  203.545456  204.954544  195.222260   \n",
       "1     2016-03-29  203.000000  206.318176  202.181824  203.090912  193.447144   \n",
       "2     2016-03-30  207.727264  217.272720  206.181824  215.909088  205.656662   \n",
       "3     2016-03-31  216.545456  219.409088  212.454544  215.136368  204.920624   \n",
       "4     2016-04-01  214.545456  217.681824  211.545456  216.636368  206.349396   \n",
       "...          ...         ...         ...         ...         ...         ...   \n",
       "1231  2021-03-22  586.849976  586.849976  569.500000  573.450012  573.450012   \n",
       "1232  2021-03-23  576.000000  589.250000  574.299988  586.400024  586.400024   \n",
       "1233  2021-03-24  580.000000  580.549988  565.000000  567.500000  567.500000   \n",
       "1234  2021-03-25  568.099976  579.000000  557.099976  571.549988  571.549988   \n",
       "1235  2021-03-26  584.500000  584.500000  574.299988  578.549988  578.549988   \n",
       "\n",
       "          Volume  \n",
       "0     20214214.0  \n",
       "1     20447782.0  \n",
       "2     23016348.0  \n",
       "3     30614104.0  \n",
       "4     15677352.0  \n",
       "...          ...  \n",
       "1231  21755401.0  \n",
       "1232  29486417.0  \n",
       "1233  24434219.0  \n",
       "1234  27170186.0  \n",
       "1235  20724410.0  \n",
       "\n",
       "[1234 rows x 7 columns]"
      ]
     },
     "execution_count": 6,
     "metadata": {},
     "output_type": "execute_result"
    }
   ],
   "source": [
    "#SINCE THE DATASET HAD NULL VALUES, WE REMOVE IT USING DROPNA() \n",
    "data1=data.dropna()\n",
    "data1"
   ]
  },
  {
   "cell_type": "code",
   "execution_count": 7,
   "metadata": {},
   "outputs": [
    {
     "data": {
      "text/plain": [
       "Date         0\n",
       "Open         0\n",
       "High         0\n",
       "Low          0\n",
       "Close        0\n",
       "Adj Close    0\n",
       "Volume       0\n",
       "dtype: int64"
      ]
     },
     "execution_count": 7,
     "metadata": {},
     "output_type": "execute_result"
    }
   ],
   "source": [
    "data1.isnull().sum()"
   ]
  },
  {
   "cell_type": "code",
   "execution_count": 8,
   "metadata": {},
   "outputs": [
    {
     "data": {
      "text/html": [
       "<div>\n",
       "<style scoped>\n",
       "    .dataframe tbody tr th:only-of-type {\n",
       "        vertical-align: middle;\n",
       "    }\n",
       "\n",
       "    .dataframe tbody tr th {\n",
       "        vertical-align: top;\n",
       "    }\n",
       "\n",
       "    .dataframe thead th {\n",
       "        text-align: right;\n",
       "    }\n",
       "</style>\n",
       "<table border=\"1\" class=\"dataframe\">\n",
       "  <thead>\n",
       "    <tr style=\"text-align: right;\">\n",
       "      <th></th>\n",
       "      <th>Open</th>\n",
       "      <th>High</th>\n",
       "      <th>Low</th>\n",
       "      <th>Close</th>\n",
       "      <th>Adj Close</th>\n",
       "      <th>Volume</th>\n",
       "    </tr>\n",
       "  </thead>\n",
       "  <tbody>\n",
       "    <tr>\n",
       "      <th>count</th>\n",
       "      <td>1234.000000</td>\n",
       "      <td>1234.000000</td>\n",
       "      <td>1234.000000</td>\n",
       "      <td>1234.000000</td>\n",
       "      <td>1234.000000</td>\n",
       "      <td>1.234000e+03</td>\n",
       "    </tr>\n",
       "    <tr>\n",
       "      <th>mean</th>\n",
       "      <td>348.414074</td>\n",
       "      <td>353.172193</td>\n",
       "      <td>343.389468</td>\n",
       "      <td>348.320181</td>\n",
       "      <td>344.775072</td>\n",
       "      <td>2.285320e+07</td>\n",
       "    </tr>\n",
       "    <tr>\n",
       "      <th>std</th>\n",
       "      <td>100.948005</td>\n",
       "      <td>102.153953</td>\n",
       "      <td>99.672956</td>\n",
       "      <td>101.017028</td>\n",
       "      <td>103.592236</td>\n",
       "      <td>1.690414e+07</td>\n",
       "    </tr>\n",
       "    <tr>\n",
       "      <th>min</th>\n",
       "      <td>194.545456</td>\n",
       "      <td>199.909088</td>\n",
       "      <td>193.818176</td>\n",
       "      <td>194.954544</td>\n",
       "      <td>185.697128</td>\n",
       "      <td>1.114874e+06</td>\n",
       "    </tr>\n",
       "    <tr>\n",
       "      <th>25%</th>\n",
       "      <td>274.342049</td>\n",
       "      <td>276.949990</td>\n",
       "      <td>271.093186</td>\n",
       "      <td>274.353416</td>\n",
       "      <td>267.988373</td>\n",
       "      <td>1.297270e+07</td>\n",
       "    </tr>\n",
       "    <tr>\n",
       "      <th>50%</th>\n",
       "      <td>325.649994</td>\n",
       "      <td>332.925003</td>\n",
       "      <td>320.250000</td>\n",
       "      <td>326.800003</td>\n",
       "      <td>323.388138</td>\n",
       "      <td>1.827545e+07</td>\n",
       "    </tr>\n",
       "    <tr>\n",
       "      <th>75%</th>\n",
       "      <td>401.337509</td>\n",
       "      <td>408.399994</td>\n",
       "      <td>394.287491</td>\n",
       "      <td>400.987503</td>\n",
       "      <td>399.722488</td>\n",
       "      <td>2.715583e+07</td>\n",
       "    </tr>\n",
       "    <tr>\n",
       "      <th>max</th>\n",
       "      <td>673.400024</td>\n",
       "      <td>679.400024</td>\n",
       "      <td>652.000000</td>\n",
       "      <td>673.950012</td>\n",
       "      <td>673.950012</td>\n",
       "      <td>2.868577e+08</td>\n",
       "    </tr>\n",
       "  </tbody>\n",
       "</table>\n",
       "</div>"
      ],
      "text/plain": [
       "              Open         High          Low        Close    Adj Close  \\\n",
       "count  1234.000000  1234.000000  1234.000000  1234.000000  1234.000000   \n",
       "mean    348.414074   353.172193   343.389468   348.320181   344.775072   \n",
       "std     100.948005   102.153953    99.672956   101.017028   103.592236   \n",
       "min     194.545456   199.909088   193.818176   194.954544   185.697128   \n",
       "25%     274.342049   276.949990   271.093186   274.353416   267.988373   \n",
       "50%     325.649994   332.925003   320.250000   326.800003   323.388138   \n",
       "75%     401.337509   408.399994   394.287491   400.987503   399.722488   \n",
       "max     673.400024   679.400024   652.000000   673.950012   673.950012   \n",
       "\n",
       "             Volume  \n",
       "count  1.234000e+03  \n",
       "mean   2.285320e+07  \n",
       "std    1.690414e+07  \n",
       "min    1.114874e+06  \n",
       "25%    1.297270e+07  \n",
       "50%    1.827545e+07  \n",
       "75%    2.715583e+07  \n",
       "max    2.868577e+08  "
      ]
     },
     "execution_count": 8,
     "metadata": {},
     "output_type": "execute_result"
    }
   ],
   "source": [
    "#DESCIPTION OF DATASET\n",
    "data1.describe()"
   ]
  },
  {
   "cell_type": "code",
   "execution_count": 9,
   "metadata": {},
   "outputs": [
    {
     "name": "stdout",
     "output_type": "stream",
     "text": [
      "<class 'pandas.core.frame.DataFrame'>\n",
      "Int64Index: 1234 entries, 0 to 1235\n",
      "Data columns (total 7 columns):\n",
      " #   Column     Non-Null Count  Dtype  \n",
      "---  ------     --------------  -----  \n",
      " 0   Date       1234 non-null   object \n",
      " 1   Open       1234 non-null   float64\n",
      " 2   High       1234 non-null   float64\n",
      " 3   Low        1234 non-null   float64\n",
      " 4   Close      1234 non-null   float64\n",
      " 5   Adj Close  1234 non-null   float64\n",
      " 6   Volume     1234 non-null   float64\n",
      "dtypes: float64(6), object(1)\n",
      "memory usage: 77.1+ KB\n"
     ]
    }
   ],
   "source": [
    "#INFORMATION ABOUT DATASET\n",
    "data1.info()"
   ]
  },
  {
   "cell_type": "code",
   "execution_count": 10,
   "metadata": {},
   "outputs": [],
   "source": [
    "data2 = data1.groupby('Date')[['Close']].mean()\n"
   ]
  },
  {
   "cell_type": "code",
   "execution_count": 11,
   "metadata": {},
   "outputs": [
    {
     "data": {
      "text/html": [
       "<div>\n",
       "<style scoped>\n",
       "    .dataframe tbody tr th:only-of-type {\n",
       "        vertical-align: middle;\n",
       "    }\n",
       "\n",
       "    .dataframe tbody tr th {\n",
       "        vertical-align: top;\n",
       "    }\n",
       "\n",
       "    .dataframe thead th {\n",
       "        text-align: right;\n",
       "    }\n",
       "</style>\n",
       "<table border=\"1\" class=\"dataframe\">\n",
       "  <thead>\n",
       "    <tr style=\"text-align: right;\">\n",
       "      <th></th>\n",
       "      <th>Close</th>\n",
       "    </tr>\n",
       "    <tr>\n",
       "      <th>Date</th>\n",
       "      <th></th>\n",
       "    </tr>\n",
       "  </thead>\n",
       "  <tbody>\n",
       "    <tr>\n",
       "      <th>2016-03-28</th>\n",
       "      <td>204.954544</td>\n",
       "    </tr>\n",
       "    <tr>\n",
       "      <th>2016-03-29</th>\n",
       "      <td>203.090912</td>\n",
       "    </tr>\n",
       "    <tr>\n",
       "      <th>2016-03-30</th>\n",
       "      <td>215.909088</td>\n",
       "    </tr>\n",
       "    <tr>\n",
       "      <th>2016-03-31</th>\n",
       "      <td>215.136368</td>\n",
       "    </tr>\n",
       "    <tr>\n",
       "      <th>2016-04-01</th>\n",
       "      <td>216.636368</td>\n",
       "    </tr>\n",
       "    <tr>\n",
       "      <th>...</th>\n",
       "      <td>...</td>\n",
       "    </tr>\n",
       "    <tr>\n",
       "      <th>2021-03-22</th>\n",
       "      <td>573.450012</td>\n",
       "    </tr>\n",
       "    <tr>\n",
       "      <th>2021-03-23</th>\n",
       "      <td>586.400024</td>\n",
       "    </tr>\n",
       "    <tr>\n",
       "      <th>2021-03-24</th>\n",
       "      <td>567.500000</td>\n",
       "    </tr>\n",
       "    <tr>\n",
       "      <th>2021-03-25</th>\n",
       "      <td>571.549988</td>\n",
       "    </tr>\n",
       "    <tr>\n",
       "      <th>2021-03-26</th>\n",
       "      <td>578.549988</td>\n",
       "    </tr>\n",
       "  </tbody>\n",
       "</table>\n",
       "<p>1234 rows × 1 columns</p>\n",
       "</div>"
      ],
      "text/plain": [
       "                 Close\n",
       "Date                  \n",
       "2016-03-28  204.954544\n",
       "2016-03-29  203.090912\n",
       "2016-03-30  215.909088\n",
       "2016-03-31  215.136368\n",
       "2016-04-01  216.636368\n",
       "...                ...\n",
       "2021-03-22  573.450012\n",
       "2021-03-23  586.400024\n",
       "2021-03-24  567.500000\n",
       "2021-03-25  571.549988\n",
       "2021-03-26  578.549988\n",
       "\n",
       "[1234 rows x 1 columns]"
      ]
     },
     "execution_count": 11,
     "metadata": {},
     "output_type": "execute_result"
    }
   ],
   "source": [
    "data2"
   ]
  },
  {
   "cell_type": "code",
   "execution_count": 12,
   "metadata": {},
   "outputs": [
    {
     "data": {
      "text/plain": [
       "str"
      ]
     },
     "execution_count": 12,
     "metadata": {},
     "output_type": "execute_result"
    }
   ],
   "source": [
    "type(data1.Date[0])"
   ]
  },
  {
   "cell_type": "markdown",
   "metadata": {},
   "source": [
    "# VISUALIZATION OF DATASET"
   ]
  },
  {
   "cell_type": "code",
   "execution_count": 13,
   "metadata": {},
   "outputs": [
    {
     "data": {
      "text/plain": [
       "Text(0, 0.5, 'Price')"
      ]
     },
     "execution_count": 13,
     "metadata": {},
     "output_type": "execute_result"
    },
    {
     "data": {
      "image/png": "[encoded data removed]",
      "text/plain": [
       "<Figure size 864x576 with 1 Axes>"
      ]
     },
     "metadata": {},
     "output_type": "display_data"
    }
   ],
   "source": [
    "#plotting the graph with date againts closing price(in month)\n",
    "data1.plot(figsize=(12,8),x='Date',y='Close',title='Closing Price(in Year)',fontsize=14)\n",
    "plt.xlabel(\"Month\")\n",
    "plt.ylabel(\"Price\")"
   ]
  },
  {
   "cell_type": "code",
   "execution_count": 14,
   "metadata": {},
   "outputs": [
    {
     "data": {
      "text/html": [
       "<div>\n",
       "<style scoped>\n",
       "    .dataframe tbody tr th:only-of-type {\n",
       "        vertical-align: middle;\n",
       "    }\n",
       "\n",
       "    .dataframe tbody tr th {\n",
       "        vertical-align: top;\n",
       "    }\n",
       "\n",
       "    .dataframe thead th {\n",
       "        text-align: right;\n",
       "    }\n",
       "</style>\n",
       "<table border=\"1\" class=\"dataframe\">\n",
       "  <thead>\n",
       "    <tr style=\"text-align: right;\">\n",
       "      <th></th>\n",
       "      <th>Close</th>\n",
       "    </tr>\n",
       "    <tr>\n",
       "      <th>Date</th>\n",
       "      <th></th>\n",
       "    </tr>\n",
       "  </thead>\n",
       "  <tbody>\n",
       "    <tr>\n",
       "      <th>2016-03-28</th>\n",
       "      <td>204.954544</td>\n",
       "    </tr>\n",
       "    <tr>\n",
       "      <th>2016-03-29</th>\n",
       "      <td>203.090912</td>\n",
       "    </tr>\n",
       "    <tr>\n",
       "      <th>2016-03-30</th>\n",
       "      <td>215.909088</td>\n",
       "    </tr>\n",
       "    <tr>\n",
       "      <th>2016-03-31</th>\n",
       "      <td>215.136368</td>\n",
       "    </tr>\n",
       "    <tr>\n",
       "      <th>2016-04-01</th>\n",
       "      <td>216.636368</td>\n",
       "    </tr>\n",
       "    <tr>\n",
       "      <th>...</th>\n",
       "      <td>...</td>\n",
       "    </tr>\n",
       "    <tr>\n",
       "      <th>2021-03-22</th>\n",
       "      <td>573.450012</td>\n",
       "    </tr>\n",
       "    <tr>\n",
       "      <th>2021-03-23</th>\n",
       "      <td>586.400024</td>\n",
       "    </tr>\n",
       "    <tr>\n",
       "      <th>2021-03-24</th>\n",
       "      <td>567.500000</td>\n",
       "    </tr>\n",
       "    <tr>\n",
       "      <th>2021-03-25</th>\n",
       "      <td>571.549988</td>\n",
       "    </tr>\n",
       "    <tr>\n",
       "      <th>2021-03-26</th>\n",
       "      <td>578.549988</td>\n",
       "    </tr>\n",
       "  </tbody>\n",
       "</table>\n",
       "<p>1234 rows × 1 columns</p>\n",
       "</div>"
      ],
      "text/plain": [
       "                 Close\n",
       "Date                  \n",
       "2016-03-28  204.954544\n",
       "2016-03-29  203.090912\n",
       "2016-03-30  215.909088\n",
       "2016-03-31  215.136368\n",
       "2016-04-01  216.636368\n",
       "...                ...\n",
       "2021-03-22  573.450012\n",
       "2021-03-23  586.400024\n",
       "2021-03-24  567.500000\n",
       "2021-03-25  571.549988\n",
       "2021-03-26  578.549988\n",
       "\n",
       "[1234 rows x 1 columns]"
      ]
     },
     "execution_count": 14,
     "metadata": {},
     "output_type": "execute_result"
    }
   ],
   "source": [
    "data2"
   ]
  },
  {
   "cell_type": "code",
   "execution_count": 15,
   "metadata": {},
   "outputs": [
    {
     "data": {
      "image/png": "[encoded data removed]",
      "text/plain": [
       "<Figure size 864x576 with 2 Axes>"
      ]
     },
     "metadata": {},
     "output_type": "display_data"
    }
   ],
   "source": [
    "fig = plt.figure(figsize=(12,8))\n",
    "ax1 = fig.add_subplot(211)\n",
    "fig = sm.graphics.tsa.plot_acf(data2['Close'].iloc[13:],lags=40,ax=ax1)\n",
    "ax2 = fig.add_subplot(212)\n",
    "fig = sm.graphics.tsa.plot_pacf(data2['Close'].iloc[13:],lags=40,ax=ax2)"
   ]
  },
  {
   "cell_type": "markdown",
   "metadata": {},
   "source": [
    "# DICKEY FULLER TEST(For checking stationarity)"
   ]
  },
  {
   "cell_type": "code",
   "execution_count": 16,
   "metadata": {},
   "outputs": [],
   "source": [
    "test_result=adfuller(data2['Close'])\n",
    "#Ho: It is non stationary\n",
    "#H1: It is stationary\n",
    "\n",
    "def adfuller_test(sales):\n",
    "    result=adfuller(sales)\n",
    "    labels = ['ADF Test Statistic','p-value','#Lags Used','Number of Observations Used']\n",
    "    for value,label in zip(result,labels):\n",
    "        print(label+' : '+str(value) )\n",
    "    if result[1] <= 0.05:\n",
    "        print(\"strong evidence against the null hypothesis(Ho), reject the null hypothesis. Data has no unit root and is stationary\")\n",
    "    else:\n",
    "        print(\"weak evidence against null hypothesis, time series has a unit root, indicating it is non-stationary \")\n"
   ]
  },
  {
   "cell_type": "code",
   "execution_count": 17,
   "metadata": {},
   "outputs": [
    {
     "data": {
      "text/plain": [
       "Date\n",
       "2016-03-28           NaN\n",
       "2016-03-29    204.954544\n",
       "2016-03-30    203.090912\n",
       "2016-03-31    215.909088\n",
       "2016-04-01    215.136368\n",
       "                 ...    \n",
       "2021-03-22    586.650024\n",
       "2021-03-23    573.450012\n",
       "2021-03-24    586.400024\n",
       "2021-03-25    567.500000\n",
       "2021-03-26    571.549988\n",
       "Name: Close, Length: 1234, dtype: float64"
      ]
     },
     "execution_count": 17,
     "metadata": {},
     "output_type": "execute_result"
    }
   ],
   "source": [
    "data2['Close First Difference'] = data2['Close'] - data2['Close'].shift(1)\n",
    "data2['Close'].shift(1)\n"
   ]
  },
  {
   "cell_type": "code",
   "execution_count": 18,
   "metadata": {},
   "outputs": [
    {
     "name": "stdout",
     "output_type": "stream",
     "text": [
      "ADF Test Statistic : -8.047945073549268\n",
      "p-value : 1.7736274068252257e-12\n",
      "#Lags Used : 18\n",
      "Number of Observations Used : 1214\n",
      "strong evidence against the null hypothesis(Ho), reject the null hypothesis. Data has no unit root and is stationary\n"
     ]
    },
    {
     "data": {
      "text/plain": [
       "Text(0, 0.5, 'Price')"
      ]
     },
     "execution_count": 18,
     "metadata": {},
     "output_type": "execute_result"
    },
    {
     "data": {
      "image/png": "[encoded data removed]",
      "text/plain": [
       "<Figure size 864x576 with 1 Axes>"
      ]
     },
     "metadata": {},
     "output_type": "display_data"
    }
   ],
   "source": [
    "adfuller_test(data2['Close First Difference'].dropna())\n",
    "data2['Close First Difference'].plot(figsize=(12,8))\n",
    "plt.xlabel(\"Year\")\n",
    "plt.ylabel(\"Price\")"
   ]
  },
  {
   "cell_type": "code",
   "execution_count": 19,
   "metadata": {},
   "outputs": [
    {
     "name": "stdout",
     "output_type": "stream",
     "text": [
      "Performing stepwise search to minimize aic\n",
      " ARIMA(2,1,2)(0,0,0)[0] intercept   : AIC=8728.829, Time=1.07 sec\n",
      " ARIMA(0,1,0)(0,0,0)[0] intercept   : AIC=8722.118, Time=0.09 sec\n",
      " ARIMA(1,1,0)(0,0,0)[0] intercept   : AIC=8723.019, Time=0.25 sec\n",
      " ARIMA(0,1,1)(0,0,0)[0] intercept   : AIC=8723.010, Time=0.22 sec\n",
      " ARIMA(0,1,0)(0,0,0)[0]             : AIC=8721.760, Time=0.06 sec\n",
      " ARIMA(1,1,1)(0,0,0)[0] intercept   : AIC=8724.929, Time=0.47 sec\n",
      "\n",
      "Best model:  ARIMA(0,1,0)(0,0,0)[0]          \n",
      "Total fit time: 2.174 seconds\n"
     ]
    }
   ],
   "source": [
    "stepwise_fit = auto_arima(data2['Close'], trace=True,suppress_warnings=True)"
   ]
  },
  {
   "cell_type": "code",
   "execution_count": 20,
   "metadata": {},
   "outputs": [],
   "source": [
    "train_data, test_data = data2[0:int(len(data2)*0.7)], data2[int(len(data2)*0.7):]\n",
    "training_data = train_data['Close'].values\n",
    "test_data = test_data['Close'].values\n",
    "history = [x for x in training_data]\n",
    "model_predictions = []\n",
    "N_test_observations = len(test_data)\n",
    "for time_point in range(N_test_observations):\n",
    "    model = ARIMA(history, order=(0,1,0))\n",
    "    model_fit = model.fit(disp=0)\n",
    "    output = model_fit.forecast()\n",
    "    yhat = output[0]\n",
    "    model_predictions.append(yhat)\n",
    "    true_test_value = test_data[time_point]\n",
    "    history.append(true_test_value)\n"
   ]
  },
  {
   "cell_type": "code",
   "execution_count": 21,
   "metadata": {},
   "outputs": [
    {
     "data": {
      "image/png": "[encoded data removed]",
      "text/plain": [
       "<Figure size 720x432 with 1 Axes>"
      ]
     },
     "metadata": {},
     "output_type": "display_data"
    }
   ],
   "source": [
    "test_set_range = data2[int(len(data2)*0.7):].index\n",
    "ax = plt.axes()\n",
    "ax.xaxis.set_major_locator(ticker.MultipleLocator(15))\n",
    "plt.plot(test_set_range, model_predictions, color='blue', marker='o', linestyle='dashed',label='Predicted Price')\n",
    "plt.plot(test_set_range, test_data, color='red', label='Actual Price')\n",
    "plt.title('RELIANCE PRICES PREDICTION')\n",
    "plt.xlabel('Date')\n",
    "plt.ylabel('Prices')\n",
    "plt.xticks(rotation=90)\n",
    "plt.tick_params(axis='x' ,labelsize=8)\n",
    "# plt.xticks(np.arange(881,1259,50), data2.Date[881:1259:50])\n",
    "plt.legend()\n",
    "plt.tight_layout()\n",
    "plt.show()"
   ]
  },
  {
   "cell_type": "code",
   "execution_count": 22,
   "metadata": {},
   "outputs": [
    {
     "name": "stdout",
     "output_type": "stream",
     "text": [
      "[571.84754924 572.14511047 572.44267171 572.74023295 573.03779419\n",
      " 573.33535542 573.63291666 573.9304779  574.22803913 574.52560037\n",
      " 574.82316161 575.12072284 575.41828408 575.71584532 576.01340656\n",
      " 576.31096779 576.60852903 576.90609027 577.2036515  577.50121274\n",
      " 577.79877398 578.09633521 578.39389645 578.69145769 578.98901893\n",
      " 579.28658016 579.5841414  579.88170264 580.17926387 580.47682511\n",
      " 580.77438635 581.07194758]\n"
     ]
    }
   ],
   "source": [
    "pred=model_fit.predict(start=len(data2),end=len(data2)+30,typ='levels')\n",
    "print(pred)"
   ]
  },
  {
   "cell_type": "code",
   "execution_count": 23,
   "metadata": {},
   "outputs": [
    {
     "name": "stdout",
     "output_type": "stream",
     "text": [
      "MSE: 151.18522542962455\n",
      "MAE: 8.851524131757166\n",
      "RMSE: 12.295740133461855\n",
      "MAPE: 0.24826577657569046\n"
     ]
    }
   ],
   "source": [
    "# model performance\n",
    "mse = mean_squared_error(test_data, model_predictions)\n",
    "print('MSE: '+str(mse))\n",
    "mae = mean_absolute_error(test_data,model_predictions)\n",
    "print('MAE: '+str(mae))\n",
    "rmse = math.sqrt(mean_squared_error(test_data, model_predictions))\n",
    "print('RMSE: '+str(rmse))\n",
    "mape = np.mean(np.abs(model_predictions - test_data)/np.abs(test_data))\n",
    "print('MAPE: '+str(mape))"
   ]
  },
  {
   "cell_type": "code",
   "execution_count": null,
   "metadata": {},
   "outputs": [],
   "source": []
  }
 ],
 "metadata": {
  "kernelspec": {
   "display_name": "Python 3",
   "language": "python",
   "name": "python3"
  },
  "language_info": {
   "codemirror_mode": {
    "name": "ipython",
    "version": 3
   },
   "file_extension": ".py",
   "mimetype": "text/x-python",
   "name": "python",
   "nbconvert_exporter": "python",
   "pygments_lexer": "ipython3",
   "version": "3.8.5"
  }
 },
 "nbformat": 4,
 "nbformat_minor": 4
}
